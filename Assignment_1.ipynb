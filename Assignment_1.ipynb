{
  "cells": [
    {
      "cell_type": "markdown",
      "metadata": {
        "id": "U4E9DciaZJcY"
      },
      "source": [
        "# **Q1**\n",
        "Create one variable containing following type of data:\n",
        "\n",
        "(i) string\n",
        "\n",
        "(ii) list\n",
        "\n",
        "(iii) float\n",
        "\n",
        "(iv) tuple"
      ]
    },
    {
      "cell_type": "code",
      "execution_count": 1,
      "metadata": {
        "id": "iOlU2medZJce"
      },
      "outputs": [],
      "source": [
        "st = \"This variable contains String\" # (i) string\n",
        "lst = [1,2,3,4] # (ii) list\n",
        "flt = 87.3 # (iii) float\n",
        "tpl = (1, 2, 3, 4, 5) # (iv) tuple"
      ]
    },
    {
      "cell_type": "markdown",
      "metadata": {
        "id": "Up34mFWtZJch"
      },
      "source": [
        "# **Q2.** \n",
        "Given are some following variables containing data:\n",
        "\n",
        "(i) var1 = ‘ ‘\n",
        "\n",
        "(ii) var2 = ‘[ DS , ML , Python]’\n",
        "\n",
        "(iii) var3 = [ ‘DS’ , ’ML’ , ‘Python’ ]\n",
        "\n",
        "(iv) var4 = 1.\n",
        "\n",
        "What will be the data type of the above given variable."
      ]
    },
    {
      "cell_type": "code",
      "execution_count": 2,
      "metadata": {
        "colab": {
          "base_uri": "https://localhost:8080/"
        },
        "id": "nmyXzT2wZJci",
        "outputId": "4ac789a8-ebc0-4eb8-a3a9-29dce90ba887"
      },
      "outputs": [
        {
          "output_type": "stream",
          "name": "stdout",
          "text": [
            "<class 'str'>\n",
            "<class 'str'>\n",
            "<class 'list'>\n",
            "<class 'int'>\n"
          ]
        }
      ],
      "source": [
        "var1 = ''\n",
        "var2 = '[ DS , ML , Python]'\n",
        "var3 = [ 'DS' , 'ML' , 'Python' ]\n",
        "var4 = 1\n",
        "print(type(var1))\n",
        "print(type(var2))\n",
        "print(type(var3))\n",
        "print(type(var4))"
      ]
    },
    {
      "cell_type": "markdown",
      "metadata": {
        "id": "uoIEsSA5ZJcj"
      },
      "source": [
        "# **Q3.**\n",
        " Explain the use of the following operators using an example:\n",
        "\n",
        "(i) /\n",
        "\n",
        "(ii) %\n",
        "\n",
        "(iii) //\n",
        "\n",
        "(iv) **"
      ]
    },
    {
      "cell_type": "code",
      "execution_count": 3,
      "metadata": {
        "colab": {
          "base_uri": "https://localhost:8080/"
        },
        "id": "wK7wS-5dZJck",
        "outputId": "4dc6fb89-b1b1-41e8-d7b3-0ea6ba5ce80a"
      },
      "outputs": [
        {
          "output_type": "stream",
          "name": "stdout",
          "text": [
            "3.5\n",
            "1\n",
            "3\n",
            "49\n"
          ]
        }
      ],
      "source": [
        "a = 7\n",
        "b = 2\n",
        "\n",
        "#(i) Division Operator(/): The division operator / is used to divide two numbers and returns the result as a float value.\n",
        "res = a / b\n",
        "print(res)\n",
        "# The division operator divides a by b and returns the result as a float.\n",
        "\n",
        "\n",
        "#(ii) Modulo Operator(%) : The modulo operator % is used to calculate the remainder of a division between two numbers.\n",
        "res = a % b\n",
        "print(res)\n",
        "#The modulo operator% divides a by b and returns 1 as the remainder.\n",
        "\n",
        "#(iii) Floor Division Operator(//): The floor division operator // divides two integers and returns the quotient as an integer value, ignoring the decimal component (flooring the result).\n",
        "res = a // b\n",
        "print(res)\n",
        "#The floor division operator // divides a by b and returns the quotient, which is 3 (the decimal component is discarded).\n",
        "\n",
        "#(iv) Exponentiation Operator(**): To increase one number to the power of another, use the exponentiation operator **. \n",
        "res = a ** b\n",
        "print(res)\n",
        "#** increases a to the power of b and returns the result, which is 49 (7 raised to the power of 2)."
      ]
    },
    {
      "cell_type": "markdown",
      "metadata": {
        "id": "IHdSqkO_ZJcl"
      },
      "source": [
        "# **Q4.**\n",
        " Create a list of length 10 of your choice containing multiple types of data. Using for loop print the element and its data type."
      ]
    },
    {
      "cell_type": "code",
      "execution_count": 4,
      "metadata": {
        "colab": {
          "base_uri": "https://localhost:8080/"
        },
        "id": "PSzC2Lo0ZJcl",
        "outputId": "57e86bc4-992e-4311-d21e-e5fa2056c6f4"
      },
      "outputs": [
        {
          "output_type": "stream",
          "name": "stdout",
          "text": [
            "1\n",
            "2\n",
            "3\n",
            "4\n",
            "rahib\n",
            "45.5\n",
            "True\n",
            "['Rahib']\n",
            "False\n",
            "45.6\n"
          ]
        }
      ],
      "source": [
        "lst = [1,2,3,4, 'rahib', 45.5, True, ['Rahib'], False, 45.6]\n",
        "\n",
        "for i in lst:\n",
        "    print(i)"
      ]
    },
    {
      "cell_type": "markdown",
      "metadata": {
        "id": "X7yFJc_rZJcm"
      },
      "source": [
        "# **Q5.**\n",
        " Using a while loop, verify if the number A is purely divisible by number B and if so then how many times it can be divisible."
      ]
    },
    {
      "cell_type": "code",
      "execution_count": 5,
      "metadata": {
        "colab": {
          "base_uri": "https://localhost:8080/"
        },
        "id": "nE0OdEVWZJcn",
        "outputId": "c75f33cc-570d-46db-b003-f4f002425350"
      },
      "outputs": [
        {
          "output_type": "stream",
          "name": "stdout",
          "text": [
            "Number A is divisible by number B : 1 times.\n"
          ]
        }
      ],
      "source": [
        "x = 24\n",
        "y = 3\n",
        "i = 0\n",
        "\n",
        "while x % y == 0:\n",
        "    x = x // y\n",
        "    i += 1\n",
        "\n",
        "print(\"Number A is divisible by number B :\", i, \"times.\")"
      ]
    },
    {
      "cell_type": "markdown",
      "metadata": {
        "id": "s9sJr-M2ZJcn"
      },
      "source": [
        "# **Q6.**\n",
        " Create a list containing 25 int type data. Using for loop and if-else condition print if the element is divisible by 3 or not.\n",
        "\n"
      ]
    },
    {
      "cell_type": "code",
      "execution_count": 6,
      "metadata": {
        "colab": {
          "base_uri": "https://localhost:8080/"
        },
        "id": "aKASvr-qZJcn",
        "outputId": "7b5db469-5e90-4514-90d9-ed686bb5c5b2"
      },
      "outputs": [
        {
          "output_type": "stream",
          "name": "stdout",
          "text": [
            "1 is not divisible by 3\n",
            "2 is not divisible by 3\n",
            "3 is divisible by 3\n",
            "4 is not divisible by 3\n",
            "5 is not divisible by 3\n",
            "6 is divisible by 3\n",
            "7 is not divisible by 3\n",
            "8 is not divisible by 3\n",
            "9 is divisible by 3\n",
            "10 is not divisible by 3\n",
            "11 is not divisible by 3\n",
            "12 is divisible by 3\n",
            "13 is not divisible by 3\n",
            "14 is not divisible by 3\n",
            "15 is divisible by 3\n",
            "16 is not divisible by 3\n",
            "17 is not divisible by 3\n",
            "18 is divisible by 3\n",
            "19 is not divisible by 3\n",
            "20 is not divisible by 3\n",
            "21 is divisible by 3\n",
            "22 is not divisible by 3\n",
            "24 is divisible by 3\n",
            "25 is not divisible by 3\n"
          ]
        }
      ],
      "source": [
        "lst = [1,2,3,4,5,6,7,8,9,10,11,12,13,14,15,16,17,18,19,20,21,22,24,25]\n",
        "\n",
        "for i in lst:\n",
        "    if i % 3 == 0:\n",
        "        print(i, \"is divisible by 3\")\n",
        "    else:\n",
        "        print(i, \"is not divisible by 3\")"
      ]
    },
    {
      "cell_type": "markdown",
      "metadata": {
        "id": "Kf2bz7j0ZJco"
      },
      "source": [
        "# **Q7.**\n",
        " What do you understand about mutable and immutable data types? Give examples for both showing this property."
      ]
    },
    {
      "cell_type": "markdown",
      "metadata": {
        "id": "ujUUwUJGZJco"
      },
      "source": [
        "Mutable Data Types:\n",
        "Mutable data types can be changed after they have been created. We can modify their values or contents without having to create a new object. When we need to update or modify data in-place, mutable objects come in handy. Like: String type data.\n",
        "\n",
        "Immutable Data Types:\n",
        "Immutable data types have values that cannot be modified once they are formed. If we want to make modifications to an immutable object, we must first construct a new object with the desired changes. In some cases, immutable objects are safer to employ since they guarantee that the value remains constant. Like: List type data."
      ]
    },
    {
      "cell_type": "code",
      "execution_count": 7,
      "metadata": {
        "colab": {
          "base_uri": "https://localhost:8080/"
        },
        "id": "xYAHL8PlZJco",
        "outputId": "8995fec6-cb4c-49ed-8300-06247c1622e0"
      },
      "outputs": [
        {
          "output_type": "stream",
          "name": "stdout",
          "text": [
            "[10, 2, 3]\n"
          ]
        }
      ],
      "source": [
        "# Mutable Data Types\n",
        "lst = [1, 2, 3]\n",
        "lst[0] = 10 # Modifying an element at a specific index.\n",
        "print(lst) # [10, 2, 3]\n",
        "# Lists are mutable sequences. You can add, remove, or modify elements within a list.\n",
        "\n",
        "\n",
        "# Immutable Data Types\n",
        "st = \"Hello\"\n",
        "#st[0] = 'K'\n",
        "# Trying to modify an element at a specific index. the string will result in an error."
      ]
    }
  ],
  "metadata": {
    "kernelspec": {
      "display_name": "Python 3",
      "language": "python",
      "name": "python3"
    },
    "language_info": {
      "codemirror_mode": {
        "name": "ipython",
        "version": 3
      },
      "file_extension": ".py",
      "mimetype": "text/x-python",
      "name": "python",
      "nbconvert_exporter": "python",
      "pygments_lexer": "ipython3",
      "version": "3.11.3"
    },
    "orig_nbformat": 4,
    "colab": {
      "provenance": []
    }
  },
  "nbformat": 4,
  "nbformat_minor": 0
}